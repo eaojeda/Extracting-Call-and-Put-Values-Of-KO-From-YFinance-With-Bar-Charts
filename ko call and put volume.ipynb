{
 "cells": [
  {
   "cell_type": "markdown",
   "id": "06087df0-301c-4429-a354-9ab0810efa88",
   "metadata": {},
   "source": [
    "# Importing libraries"
   ]
  },
  {
   "cell_type": "code",
   "execution_count": 2041,
   "id": "3e4c3523-b279-407e-933a-ddd9e6566c5f",
   "metadata": {},
   "outputs": [],
   "source": [
    "import yfinance as yf\n",
    "import pandas as pd\n",
    "import matplotlib.pyplot as plt\n",
    "import pytz"
   ]
  },
  {
   "cell_type": "markdown",
   "id": "722b91d7-b777-4770-b557-3d46cd7ce1a9",
   "metadata": {},
   "source": [
    "# Creating ticker symbol and setting it equal to stock of choice"
   ]
  },
  {
   "cell_type": "code",
   "execution_count": 2043,
   "id": "13d3c052-66bd-459d-9942-f4dcf6b2ce4d",
   "metadata": {},
   "outputs": [],
   "source": [
    "ticker_symbol = 'KO'\n",
    "ko = yf.Ticker(ticker_symbol)"
   ]
  },
  {
   "cell_type": "markdown",
   "id": "e99d22a7-128c-47c5-a2b6-d09d7b9741f1",
   "metadata": {},
   "source": [
    "# Creating empty list to append values"
   ]
  },
  {
   "cell_type": "code",
   "execution_count": 2045,
   "id": "e3cdc163-d774-42a8-a0a5-3a69d476ff76",
   "metadata": {},
   "outputs": [],
   "source": [
    "all_options_list = []"
   ]
  },
  {
   "cell_type": "code",
   "execution_count": 2046,
   "id": "8fecc870-6854-4cac-b3fd-07bf76bdb46e",
   "metadata": {},
   "outputs": [],
   "source": [
    "for exp_date in ko.options:\n",
    "    try:\n",
    "        options_chain = ko.option_chain(exp_date)\n",
    "        calls = options_chain.calls \n",
    "        puts = options_chain.puts\n",
    "        calls['expirationDate'] = exp_date\n",
    "        puts['expirationDate'] = exp_date\n",
    "        all_options_data = all_options_list.append(calls)\n",
    "        all_options_data = all_options_list.append(puts)\n",
    "    except Exception as e:\n",
    "        print(f'Error retrieving options for {exp_date}: {e}')\n",
    "\n",
    "all_options_data = pd.concat(all_options_list, ignore_index=True)"
   ]
  },
  {
   "cell_type": "markdown",
   "id": "3c361816-98e5-4065-98cd-b90ba32122a8",
   "metadata": {},
   "source": [
    "## Turning list into a data frame"
   ]
  },
  {
   "cell_type": "code",
   "execution_count": 2048,
   "id": "9dd83b4a-2661-4560-a63e-c7f7d61893c8",
   "metadata": {},
   "outputs": [],
   "source": [
    "all_options_data = pd.DataFrame(all_options_data)"
   ]
  },
  {
   "cell_type": "markdown",
   "id": "3540cf2a-1104-4c0b-a3da-50036b4e9514",
   "metadata": {},
   "source": [
    "# Creating new data frame with specific columns from original data frame"
   ]
  },
  {
   "cell_type": "code",
   "execution_count": 2050,
   "id": "8d339308-4afa-4989-8243-9ac3003ae100",
   "metadata": {},
   "outputs": [],
   "source": [
    "new_df = all_options_data[['contractSymbol','strike','expirationDate', 'openInterest', 'volume', 'lastTradeDate']].copy()"
   ]
  },
  {
   "cell_type": "markdown",
   "id": "a48e2816-7710-4156-82e4-7f52d9d0efcf",
   "metadata": {},
   "source": [
    "# Extracting only the 'P' or 'C' from contract symbol"
   ]
  },
  {
   "cell_type": "code",
   "execution_count": 2052,
   "id": "90dfcc93-a8e4-488f-9fcf-773625bd05fd",
   "metadata": {},
   "outputs": [],
   "source": [
    "new_df['optionType'] = new_df['contractSymbol'].str.extract(r'^\\w{8}([CP])', expand=False)"
   ]
  },
  {
   "cell_type": "markdown",
   "id": "f062bdf3-323a-4b75-b43b-ea978eee8ded",
   "metadata": {},
   "source": [
    "# Changing time from column 'lastTradeDate' into pacific time"
   ]
  },
  {
   "cell_type": "code",
   "execution_count": 2054,
   "id": "047d1c97-bb42-4eec-86d4-5078e6e6cf8e",
   "metadata": {},
   "outputs": [],
   "source": [
    "new_df['lastTradeDate'] = pd.to_datetime(new_df['lastTradeDate'], utc=True)\n",
    "\n",
    "pacific_tz = pytz.timezone(\"US/Pacific\")\n",
    "new_df['lastTradeDate'] = new_df['lastTradeDate'].dt.tz_convert(pacific_tz)\n",
    "\n",
    "new_df['lastTradeDate_12hr'] = new_df['lastTradeDate'].dt.strftime(\"%Y-%m-%d %I:%M %p\")"
   ]
  },
  {
   "cell_type": "code",
   "execution_count": 2055,
   "id": "da88013f-55fa-4712-a2a5-133392bf7dee",
   "metadata": {},
   "outputs": [],
   "source": [
    "new_df['lastTradeDate'] = pd.to_datetime(new_df['lastTradeDate'])\n",
    "new_df['date_traded'] = new_df['lastTradeDate'].dt.date\n",
    "new_df['time_traded'] = new_df['lastTradeDate'].dt.time"
   ]
  },
  {
   "cell_type": "markdown",
   "id": "4768cd98-326c-48d2-b05d-6c1a0b0ceb31",
   "metadata": {},
   "source": [
    "# Grouping all columns in data frame by the volume column"
   ]
  },
  {
   "cell_type": "code",
   "execution_count": 2057,
   "id": "8d3ea56b-4c48-4230-9934-556b1284857a",
   "metadata": {},
   "outputs": [],
   "source": [
    "grouped = new_df.groupby(['strike', 'optionType', 'expirationDate', 'volume', 'openInterest', 'date_traded', 'time_traded', 'lastTradeDate'])['volume'].sum()"
   ]
  },
  {
   "cell_type": "markdown",
   "id": "2bfbef42-f5e8-41e0-832f-d7baa3f1e908",
   "metadata": {},
   "source": [
    "# Sorting all rows in descending order to print rows with the most volume first"
   ]
  },
  {
   "cell_type": "code",
   "execution_count": 2059,
   "id": "d4a4bf29-f5b0-4188-a10c-76d3bc8b7185",
   "metadata": {},
   "outputs": [],
   "source": [
    "grouped_sorted = grouped.sort_values(ascending=False)"
   ]
  },
  {
   "cell_type": "markdown",
   "id": "20bb133e-7ace-439f-9374-412de8ec25a1",
   "metadata": {},
   "source": [
    "# Setting option to display all rows in data frame"
   ]
  },
  {
   "cell_type": "code",
   "execution_count": 2061,
   "id": "7ab56738-c7d7-43a9-b480-6cd7e4db81f5",
   "metadata": {},
   "outputs": [],
   "source": [
    "pd.set_option('display.max_rows', None)"
   ]
  },
  {
   "cell_type": "code",
   "execution_count": 2062,
   "id": "09dc77ce-f4c6-4d0f-883f-dbde86de7a59",
   "metadata": {
    "scrolled": true
   },
   "outputs": [
    {
     "data": {
      "text/plain": [
       "strike  optionType  expirationDate  volume  openInterest  date_traded  time_traded  lastTradeDate            \n",
       "67.5    C           2025-09-19      2547.0  3024          2025-08-13   11:34:09     2025-08-13 11:34:09-07:00    2547.0\n",
       "                    2025-08-15      2361.0  6824          2025-08-13   11:34:09     2025-08-13 11:34:09-07:00    2361.0\n",
       "64.0    P           2025-08-15      2010.0  4342          2025-08-11   06:36:51     2025-08-11 06:36:51-07:00    2010.0\n",
       "71.0    C           2025-08-15      1793.0  3480          2025-08-13   12:59:12     2025-08-13 12:59:12-07:00    1793.0\n",
       "                    2025-08-22      1336.0  1322          2025-08-13   12:59:37     2025-08-13 12:59:37-07:00    1336.0\n",
       "70.0    C           2025-08-15      1163.0  12512         2025-08-13   12:57:43     2025-08-13 12:57:43-07:00    1163.0\n",
       "75.0    C           2025-09-05      1159.0  1524          2025-08-13   08:12:25     2025-08-13 08:12:25-07:00    1159.0\n",
       "70.0    P           2025-08-15      880.0   8519          2025-08-13   12:59:42     2025-08-13 12:59:42-07:00     880.0\n",
       "65.0    P           2025-10-17      562.0   2618          2025-08-13   10:23:15     2025-08-13 10:23:15-07:00     562.0\n",
       "70.0    P           2025-09-19      550.0   11367         2025-08-13   12:54:31     2025-08-13 12:54:31-07:00     550.0\n",
       "Name: volume, dtype: float64"
      ]
     },
     "execution_count": 2062,
     "metadata": {},
     "output_type": "execute_result"
    }
   ],
   "source": [
    "grouped_sorted.head(10)"
   ]
  },
  {
   "cell_type": "markdown",
   "id": "9b9b8f59-199e-459e-b855-d3671f38703d",
   "metadata": {},
   "source": [
    "# Filtering and creating new data frame to only print values where the strike is inbetween 60 and 80"
   ]
  },
  {
   "cell_type": "code",
   "execution_count": 2064,
   "id": "1d7652c5-0d6f-401f-8513-f7be6baadd47",
   "metadata": {},
   "outputs": [],
   "source": [
    "df_filtered = new_df[(new_df['strike'] >= 60) & (new_df['strike'] <= 80)]"
   ]
  },
  {
   "cell_type": "markdown",
   "id": "f540b8be-a042-4f82-b8b9-d3ac43c0dc98",
   "metadata": {},
   "source": [
    "# Grouping all columns in data frame by the volume column and sorting by descending order"
   ]
  },
  {
   "cell_type": "code",
   "execution_count": 2066,
   "id": "3a8d2991-5163-40a3-925b-b51fd1dc59b6",
   "metadata": {},
   "outputs": [],
   "source": [
    "grouped_filtered = df_filtered.groupby(['strike', 'optionType', 'expirationDate', 'volume', 'openInterest', 'date_traded', 'time_traded'])['volume'].sum()\n",
    "grouped_filtered_sorted = grouped_filtered.sort_values(ascending=False)"
   ]
  },
  {
   "cell_type": "code",
   "execution_count": 2067,
   "id": "0ddf0ef9-c9c0-4c73-8cd2-33b9bf5474e5",
   "metadata": {
    "scrolled": true
   },
   "outputs": [
    {
     "name": "stdout",
     "output_type": "stream",
     "text": [
      "strike  optionType  expirationDate  volume  openInterest  date_traded  time_traded\n",
      "67.5    C           2025-09-19      2547.0  3024          2025-08-13   11:34:09       2547.0\n",
      "                    2025-08-15      2361.0  6824          2025-08-13   11:34:09       2361.0\n",
      "64.0    P           2025-08-15      2010.0  4342          2025-08-11   06:36:51       2010.0\n",
      "71.0    C           2025-08-15      1793.0  3480          2025-08-13   12:59:12       1793.0\n",
      "                    2025-08-22      1336.0  1322          2025-08-13   12:59:37       1336.0\n",
      "70.0    C           2025-08-15      1163.0  12512         2025-08-13   12:57:43       1163.0\n",
      "75.0    C           2025-09-05      1159.0  1524          2025-08-13   08:12:25       1159.0\n",
      "70.0    P           2025-08-15      880.0   8519          2025-08-13   12:59:42        880.0\n",
      "65.0    P           2025-10-17      562.0   2618          2025-08-13   10:23:15        562.0\n",
      "70.0    P           2025-09-19      550.0   11367         2025-08-13   12:54:31        550.0\n",
      "Name: volume, dtype: float64\n"
     ]
    }
   ],
   "source": [
    "print(grouped_filtered_sorted.head(10))"
   ]
  },
  {
   "cell_type": "markdown",
   "id": "0b999d3d-24ae-4610-9fe5-7e66b8d56852",
   "metadata": {},
   "source": [
    "# Creating a bar chart to show the volume of calls and puts by the strike"
   ]
  },
  {
   "cell_type": "code",
   "execution_count": 2069,
   "id": "301ffa42-ffb6-413b-ad1d-b5cc728a3b89",
   "metadata": {},
   "outputs": [
    {
     "data": {
      "image/png": "[encoded data removed]",
      "text/plain": [
       "<Figure size 800x500 with 1 Axes>"
      ]
     },
     "metadata": {},
     "output_type": "display_data"
    }
   ],
   "source": [
    "fig, ax = plt.subplots(figsize=(8, 5))\n",
    "\n",
    "for opt_type, color in zip(['C', 'P'], ['blue', 'orange']):\n",
    "    subset = df_filtered[df_filtered['optionType'] == opt_type]\n",
    "    ax.bar(subset['strike'], subset['volume'], label=opt_type, color=color)\n",
    "\n",
    "# Labels & legend\n",
    "ax.set_xlabel('Strike Price')\n",
    "ax.set_ylabel('Volume')\n",
    "ax.set_title('Options Volume (Strikes 60–80)')\n",
    "ax.legend(title='Option Type')\n",
    "\n",
    "# Force ticks only for filtered strikes\n",
    "ax.set_xticks(df_filtered['strike'])\n",
    "ax.set_xticklabels(df_filtered['strike'], rotation=90)\n",
    "\n",
    "plt.tight_layout()\n",
    "plt.show()"
   ]
  },
  {
   "cell_type": "markdown",
   "id": "6b337559-7b66-4b4a-b001-0e34cdaf133d",
   "metadata": {},
   "source": [
    "# Creating a bar chart to show the open interest of calls and puts by strike"
   ]
  },
  {
   "cell_type": "code",
   "execution_count": 2071,
   "id": "d68af50d-c981-4f78-8ac0-643bf1420167",
   "metadata": {},
   "outputs": [
    {
     "data": {
      "image/png": "[encoded data removed]",
      "text/plain": [
       "<Figure size 800x500 with 1 Axes>"
      ]
     },
     "metadata": {},
     "output_type": "display_data"
    }
   ],
   "source": [
    "fig, ax = plt.subplots(figsize=(8, 5))\n",
    "\n",
    "for opt_type, color in zip(['C', 'P'], ['blue', 'orange']):\n",
    "    subset = df_filtered[df_filtered['optionType'] == opt_type]\n",
    "    ax.bar(subset['strike'], subset['openInterest'], label=opt_type, color=color)\n",
    "\n",
    "# Labels & legend\n",
    "ax.set_xlabel('Strike Price')\n",
    "ax.set_ylabel('Open Interest')\n",
    "ax.set_title('Options Open Interest (Strikes 60–80)')\n",
    "ax.legend(title='Option Type')\n",
    "\n",
    "# Force ticks only for filtered strikes\n",
    "ax.set_xticks(df_filtered['strike'])\n",
    "ax.set_xticklabels(df_filtered['strike'], rotation=90)\n",
    "\n",
    "plt.tight_layout()\n",
    "plt.show()"
   ]
  },
  {
   "cell_type": "markdown",
   "id": "cae783d1-af24-44da-b488-0769f48041e5",
   "metadata": {
    "jp-MarkdownHeadingCollapsed": true
   },
   "source": [
    "# Creating a new data frame of the previous grouping"
   ]
  },
  {
   "cell_type": "code",
   "execution_count": 2073,
   "id": "fc020017-589d-4a06-97b4-700adbd3d10e",
   "metadata": {},
   "outputs": [],
   "source": [
    "data = pd.DataFrame(grouped_filtered_sorted)\n",
    "data = data.drop(data.columns[-1], axis=1)"
   ]
  },
  {
   "cell_type": "markdown",
   "id": "9cf3ca16-82a8-491e-ab08-ebe6a4d9af8f",
   "metadata": {},
   "source": [
    "# Converting updated data into a csv file"
   ]
  },
  {
   "cell_type": "code",
   "execution_count": 2075,
   "id": "c12bba17-1267-403b-bcb9-734696b4e7a7",
   "metadata": {},
   "outputs": [],
   "source": [
    "data.to_csv('most ko calls puts traded by volume.csv')"
   ]
  },
  {
   "cell_type": "markdown",
   "id": "a01dcf90-af02-4a6c-b3f4-3514726a0070",
   "metadata": {},
   "source": [
    "# Printing latest option traded"
   ]
  },
  {
   "cell_type": "code",
   "execution_count": 2077,
   "id": "5acfda12-135d-4d1b-8b6a-fa10b6b921f5",
   "metadata": {
    "scrolled": true
   },
   "outputs": [],
   "source": [
    "data = data.sort_values(by='time_traded', ascending=False)"
   ]
  },
  {
   "cell_type": "code",
   "execution_count": 2078,
   "id": "cd3c1710-7a38-4929-a8fb-9f5bffab9a62",
   "metadata": {
    "scrolled": true
   },
   "outputs": [
    {
     "data": {
      "text/html": [
       "<div>\n",
       "<style scoped>\n",
       "    .dataframe tbody tr th:only-of-type {\n",
       "        vertical-align: middle;\n",
       "    }\n",
       "\n",
       "    .dataframe tbody tr th {\n",
       "        vertical-align: top;\n",
       "    }\n",
       "\n",
       "    .dataframe thead th {\n",
       "        text-align: right;\n",
       "    }\n",
       "</style>\n",
       "<table border=\"1\" class=\"dataframe\">\n",
       "  <thead>\n",
       "    <tr style=\"text-align: right;\">\n",
       "      <th></th>\n",
       "      <th></th>\n",
       "      <th></th>\n",
       "      <th></th>\n",
       "      <th></th>\n",
       "      <th></th>\n",
       "      <th></th>\n",
       "    </tr>\n",
       "    <tr>\n",
       "      <th>strike</th>\n",
       "      <th>optionType</th>\n",
       "      <th>expirationDate</th>\n",
       "      <th>volume</th>\n",
       "      <th>openInterest</th>\n",
       "      <th>date_traded</th>\n",
       "      <th>time_traded</th>\n",
       "    </tr>\n",
       "  </thead>\n",
       "  <tbody>\n",
       "    <tr>\n",
       "      <th rowspan=\"2\" valign=\"top\">70.0</th>\n",
       "      <th rowspan=\"2\" valign=\"top\">P</th>\n",
       "      <th>2025-08-22</th>\n",
       "      <th>189.0</th>\n",
       "      <th>389</th>\n",
       "      <th>2025-08-13</th>\n",
       "      <th>12:59:57</th>\n",
       "    </tr>\n",
       "    <tr>\n",
       "      <th>2025-08-15</th>\n",
       "      <th>880.0</th>\n",
       "      <th>8519</th>\n",
       "      <th>2025-08-13</th>\n",
       "      <th>12:59:42</th>\n",
       "    </tr>\n",
       "    <tr>\n",
       "      <th>75.0</th>\n",
       "      <th>C</th>\n",
       "      <th>2025-08-22</th>\n",
       "      <th>1.0</th>\n",
       "      <th>266</th>\n",
       "      <th>2025-08-13</th>\n",
       "      <th>12:59:40</th>\n",
       "    </tr>\n",
       "    <tr>\n",
       "      <th>71.0</th>\n",
       "      <th>C</th>\n",
       "      <th>2025-08-22</th>\n",
       "      <th>1336.0</th>\n",
       "      <th>1322</th>\n",
       "      <th>2025-08-13</th>\n",
       "      <th>12:59:37</th>\n",
       "    </tr>\n",
       "    <tr>\n",
       "      <th>77.5</th>\n",
       "      <th>C</th>\n",
       "      <th>2026-12-18</th>\n",
       "      <th>2.0</th>\n",
       "      <th>87</th>\n",
       "      <th>2025-08-04</th>\n",
       "      <th>12:59:24</th>\n",
       "    </tr>\n",
       "    <tr>\n",
       "      <th>72.5</th>\n",
       "      <th>P</th>\n",
       "      <th>2026-01-16</th>\n",
       "      <th>6.0</th>\n",
       "      <th>2561</th>\n",
       "      <th>2025-08-13</th>\n",
       "      <th>12:59:17</th>\n",
       "    </tr>\n",
       "    <tr>\n",
       "      <th>68.0</th>\n",
       "      <th>P</th>\n",
       "      <th>2025-08-15</th>\n",
       "      <th>154.0</th>\n",
       "      <th>1859</th>\n",
       "      <th>2025-08-13</th>\n",
       "      <th>12:59:13</th>\n",
       "    </tr>\n",
       "    <tr>\n",
       "      <th>71.0</th>\n",
       "      <th>C</th>\n",
       "      <th>2025-08-15</th>\n",
       "      <th>1793.0</th>\n",
       "      <th>3480</th>\n",
       "      <th>2025-08-13</th>\n",
       "      <th>12:59:12</th>\n",
       "    </tr>\n",
       "    <tr>\n",
       "      <th>70.0</th>\n",
       "      <th>C</th>\n",
       "      <th>2025-08-22</th>\n",
       "      <th>165.0</th>\n",
       "      <th>1225</th>\n",
       "      <th>2025-08-13</th>\n",
       "      <th>12:58:55</th>\n",
       "    </tr>\n",
       "    <tr>\n",
       "      <th>60.0</th>\n",
       "      <th>C</th>\n",
       "      <th>2025-11-21</th>\n",
       "      <th>1.0</th>\n",
       "      <th>161</th>\n",
       "      <th>2025-08-11</th>\n",
       "      <th>12:58:47</th>\n",
       "    </tr>\n",
       "  </tbody>\n",
       "</table>\n",
       "</div>"
      ],
      "text/plain": [
       "Empty DataFrame\n",
       "Columns: []\n",
       "Index: [(70.0, P, 2025-08-22, 189.0, 389, 2025-08-13, 12:59:57), (70.0, P, 2025-08-15, 880.0, 8519, 2025-08-13, 12:59:42), (75.0, C, 2025-08-22, 1.0, 266, 2025-08-13, 12:59:40), (71.0, C, 2025-08-22, 1336.0, 1322, 2025-08-13, 12:59:37), (77.5, C, 2026-12-18, 2.0, 87, 2025-08-04, 12:59:24), (72.5, P, 2026-01-16, 6.0, 2561, 2025-08-13, 12:59:17), (68.0, P, 2025-08-15, 154.0, 1859, 2025-08-13, 12:59:13), (71.0, C, 2025-08-15, 1793.0, 3480, 2025-08-13, 12:59:12), (70.0, C, 2025-08-22, 165.0, 1225, 2025-08-13, 12:58:55), (60.0, C, 2025-11-21, 1.0, 161, 2025-08-11, 12:58:47)]"
      ]
     },
     "execution_count": 2078,
     "metadata": {},
     "output_type": "execute_result"
    }
   ],
   "source": [
    "data.head(10)"
   ]
  }
 ],
 "metadata": {
  "kernelspec": {
   "display_name": "Python [conda env:base] *",
   "language": "python",
   "name": "conda-base-py"
  },
  "language_info": {
   "codemirror_mode": {
    "name": "ipython",
    "version": 3
   },
   "file_extension": ".py",
   "mimetype": "text/x-python",
   "name": "python",
   "nbconvert_exporter": "python",
   "pygments_lexer": "ipython3",
   "version": "3.12.7"
  }
 },
 "nbformat": 4,
 "nbformat_minor": 5
}
